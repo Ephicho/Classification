{
 "cells": [
  {
   "cell_type": "code",
   "execution_count": 1,
   "metadata": {},
   "outputs": [
    {
     "name": "stdout",
     "output_type": "stream",
     "text": [
      "Collecting pyodbc\n",
      "  Downloading pyodbc-4.0.39-cp311-cp311-win_amd64.whl (69 kB)\n",
      "     -------------------------------------- 69.7/69.7 kB 253.9 kB/s eta 0:00:00\n",
      "Installing collected packages: pyodbc\n",
      "Successfully installed pyodbc-4.0.39\n",
      "Note: you may need to restart the kernel to use updated packages.\n"
     ]
    }
   ],
   "source": [
    "\n",
    "%pip install pyodbc"
   ]
  },
  {
   "cell_type": "code",
   "execution_count": 7,
   "metadata": {},
   "outputs": [],
   "source": [
    "# importing the necessary packages \n",
    "\n",
    "import pyodbc\n",
    "import pandas as pd\n",
    "import warnings\n",
    "import matplotlib.pyplot as plt\n",
    "import seaborn as sns\n",
    "import numpy as np\n",
    "\n",
    "warnings.filterwarnings('ignore')"
   ]
  },
  {
   "cell_type": "code",
   "execution_count": 8,
   "metadata": {},
   "outputs": [],
   "source": [
    "# create the servers instance variable such as the server you are connecting to, database , username anf password\n",
    "server = 'dap-projects-database.database.windows.net'\n",
    "database = 'dapDB'\n",
    "username = 'dataAnalyst_LP2'\n",
    "password = 'A3g@3kR$2y'\n",
    "\n",
    "# This will connection string is an f string that includes all the variable above to extablish a connection \n",
    "# to the server\n",
    "connection_string = f\"DRIVER={{SQL Server}};SERVER={server};DATABASE={database};UID={username};PWD={password}\"\n"
   ]
  },
  {
   "cell_type": "code",
   "execution_count": 9,
   "metadata": {},
   "outputs": [],
   "source": [
    "# use the connect method of the pyodbc library and pass in the connection string. This will connect to the server and might\n",
    "# take a few seconds to be complete. Check your internet connection if takes more time than necessary\n",
    "\n",
    "connection = pyodbc.connect(connection_string)"
   ]
  },
  {
   "cell_type": "code",
   "execution_count": 10,
   "metadata": {},
   "outputs": [
    {
     "name": "stdout",
     "output_type": "stream",
     "text": [
      "<class 'pandas.core.frame.DataFrame'>\n",
      "RangeIndex: 3000 entries, 0 to 2999\n",
      "Data columns (total 21 columns):\n",
      " #   Column            Non-Null Count  Dtype  \n",
      "---  ------            --------------  -----  \n",
      " 0   customerID        3000 non-null   object \n",
      " 1   gender            3000 non-null   object \n",
      " 2   SeniorCitizen     3000 non-null   bool   \n",
      " 3   Partner           3000 non-null   bool   \n",
      " 4   Dependents        3000 non-null   bool   \n",
      " 5   tenure            3000 non-null   int64  \n",
      " 6   PhoneService      3000 non-null   bool   \n",
      " 7   MultipleLines     2731 non-null   object \n",
      " 8   InternetService   3000 non-null   object \n",
      " 9   OnlineSecurity    2349 non-null   object \n",
      " 10  OnlineBackup      2349 non-null   object \n",
      " 11  DeviceProtection  2349 non-null   object \n",
      " 12  TechSupport       2349 non-null   object \n",
      " 13  StreamingTV       2349 non-null   object \n",
      " 14  StreamingMovies   2349 non-null   object \n",
      " 15  Contract          3000 non-null   object \n",
      " 16  PaperlessBilling  3000 non-null   bool   \n",
      " 17  PaymentMethod     3000 non-null   object \n",
      " 18  MonthlyCharges    3000 non-null   float64\n",
      " 19  TotalCharges      2995 non-null   float64\n",
      " 20  Churn             2999 non-null   object \n",
      "dtypes: bool(5), float64(2), int64(1), object(13)\n",
      "memory usage: 389.8+ KB\n"
     ]
    }
   ],
   "source": [
    "query = \"Select * from dbo.LP2_Telco_churn_first_3000\"\n",
    "data = pd.read_sql(query, connection)\n",
    "data.info()"
   ]
  },
  {
   "cell_type": "code",
   "execution_count": 11,
   "metadata": {},
   "outputs": [
    {
     "data": {
      "text/html": [
       "<div>\n",
       "<style scoped>\n",
       "    .dataframe tbody tr th:only-of-type {\n",
       "        vertical-align: middle;\n",
       "    }\n",
       "\n",
       "    .dataframe tbody tr th {\n",
       "        vertical-align: top;\n",
       "    }\n",
       "\n",
       "    .dataframe thead th {\n",
       "        text-align: right;\n",
       "    }\n",
       "</style>\n",
       "<table border=\"1\" class=\"dataframe\">\n",
       "  <thead>\n",
       "    <tr style=\"text-align: right;\">\n",
       "      <th></th>\n",
       "      <th>0</th>\n",
       "      <th>1</th>\n",
       "      <th>2</th>\n",
       "      <th>3</th>\n",
       "      <th>4</th>\n",
       "    </tr>\n",
       "  </thead>\n",
       "  <tbody>\n",
       "    <tr>\n",
       "      <th>customerID</th>\n",
       "      <td>5600-PDUJF</td>\n",
       "      <td>8292-TYSPY</td>\n",
       "      <td>0567-XRHCU</td>\n",
       "      <td>1867-BDVFH</td>\n",
       "      <td>2067-QYTCF</td>\n",
       "    </tr>\n",
       "    <tr>\n",
       "      <th>gender</th>\n",
       "      <td>Male</td>\n",
       "      <td>Male</td>\n",
       "      <td>Female</td>\n",
       "      <td>Male</td>\n",
       "      <td>Female</td>\n",
       "    </tr>\n",
       "    <tr>\n",
       "      <th>SeniorCitizen</th>\n",
       "      <td>0</td>\n",
       "      <td>0</td>\n",
       "      <td>0</td>\n",
       "      <td>0</td>\n",
       "      <td>0</td>\n",
       "    </tr>\n",
       "    <tr>\n",
       "      <th>Partner</th>\n",
       "      <td>No</td>\n",
       "      <td>No</td>\n",
       "      <td>Yes</td>\n",
       "      <td>Yes</td>\n",
       "      <td>Yes</td>\n",
       "    </tr>\n",
       "    <tr>\n",
       "      <th>Dependents</th>\n",
       "      <td>No</td>\n",
       "      <td>No</td>\n",
       "      <td>Yes</td>\n",
       "      <td>Yes</td>\n",
       "      <td>No</td>\n",
       "    </tr>\n",
       "    <tr>\n",
       "      <th>tenure</th>\n",
       "      <td>6</td>\n",
       "      <td>19</td>\n",
       "      <td>69</td>\n",
       "      <td>11</td>\n",
       "      <td>64</td>\n",
       "    </tr>\n",
       "    <tr>\n",
       "      <th>PhoneService</th>\n",
       "      <td>Yes</td>\n",
       "      <td>Yes</td>\n",
       "      <td>No</td>\n",
       "      <td>Yes</td>\n",
       "      <td>Yes</td>\n",
       "    </tr>\n",
       "    <tr>\n",
       "      <th>MultipleLines</th>\n",
       "      <td>No</td>\n",
       "      <td>No</td>\n",
       "      <td>No phone service</td>\n",
       "      <td>Yes</td>\n",
       "      <td>Yes</td>\n",
       "    </tr>\n",
       "    <tr>\n",
       "      <th>InternetService</th>\n",
       "      <td>DSL</td>\n",
       "      <td>DSL</td>\n",
       "      <td>DSL</td>\n",
       "      <td>Fiber optic</td>\n",
       "      <td>Fiber optic</td>\n",
       "    </tr>\n",
       "    <tr>\n",
       "      <th>OnlineSecurity</th>\n",
       "      <td>No</td>\n",
       "      <td>No</td>\n",
       "      <td>Yes</td>\n",
       "      <td>No</td>\n",
       "      <td>No</td>\n",
       "    </tr>\n",
       "    <tr>\n",
       "      <th>OnlineBackup</th>\n",
       "      <td>No</td>\n",
       "      <td>No</td>\n",
       "      <td>No</td>\n",
       "      <td>No</td>\n",
       "      <td>Yes</td>\n",
       "    </tr>\n",
       "    <tr>\n",
       "      <th>DeviceProtection</th>\n",
       "      <td>No</td>\n",
       "      <td>Yes</td>\n",
       "      <td>Yes</td>\n",
       "      <td>No</td>\n",
       "      <td>Yes</td>\n",
       "    </tr>\n",
       "    <tr>\n",
       "      <th>TechSupport</th>\n",
       "      <td>Yes</td>\n",
       "      <td>Yes</td>\n",
       "      <td>No</td>\n",
       "      <td>No</td>\n",
       "      <td>Yes</td>\n",
       "    </tr>\n",
       "    <tr>\n",
       "      <th>StreamingTV</th>\n",
       "      <td>No</td>\n",
       "      <td>No</td>\n",
       "      <td>No</td>\n",
       "      <td>No</td>\n",
       "      <td>Yes</td>\n",
       "    </tr>\n",
       "    <tr>\n",
       "      <th>StreamingMovies</th>\n",
       "      <td>No</td>\n",
       "      <td>No</td>\n",
       "      <td>Yes</td>\n",
       "      <td>No</td>\n",
       "      <td>Yes</td>\n",
       "    </tr>\n",
       "    <tr>\n",
       "      <th>Contract</th>\n",
       "      <td>Month-to-month</td>\n",
       "      <td>Month-to-month</td>\n",
       "      <td>Two year</td>\n",
       "      <td>Month-to-month</td>\n",
       "      <td>Month-to-month</td>\n",
       "    </tr>\n",
       "    <tr>\n",
       "      <th>PaperlessBilling</th>\n",
       "      <td>Yes</td>\n",
       "      <td>Yes</td>\n",
       "      <td>Yes</td>\n",
       "      <td>Yes</td>\n",
       "      <td>Yes</td>\n",
       "    </tr>\n",
       "    <tr>\n",
       "      <th>PaymentMethod</th>\n",
       "      <td>Credit card (automatic)</td>\n",
       "      <td>Credit card (automatic)</td>\n",
       "      <td>Credit card (automatic)</td>\n",
       "      <td>Electronic check</td>\n",
       "      <td>Electronic check</td>\n",
       "    </tr>\n",
       "    <tr>\n",
       "      <th>MonthlyCharges</th>\n",
       "      <td>49.5</td>\n",
       "      <td>55.0</td>\n",
       "      <td>43.95</td>\n",
       "      <td>74.35</td>\n",
       "      <td>111.15</td>\n",
       "    </tr>\n",
       "    <tr>\n",
       "      <th>TotalCharges</th>\n",
       "      <td>312.7</td>\n",
       "      <td>1046.5</td>\n",
       "      <td>2960.1</td>\n",
       "      <td>834.2</td>\n",
       "      <td>6953.4</td>\n",
       "    </tr>\n",
       "    <tr>\n",
       "      <th>Churn</th>\n",
       "      <td>No</td>\n",
       "      <td>Yes</td>\n",
       "      <td>No</td>\n",
       "      <td>Yes</td>\n",
       "      <td>No</td>\n",
       "    </tr>\n",
       "  </tbody>\n",
       "</table>\n",
       "</div>"
      ],
      "text/plain": [
       "                                        0                        1  \\\n",
       "customerID                     5600-PDUJF               8292-TYSPY   \n",
       "gender                               Male                     Male   \n",
       "SeniorCitizen                           0                        0   \n",
       "Partner                                No                       No   \n",
       "Dependents                             No                       No   \n",
       "tenure                                  6                       19   \n",
       "PhoneService                          Yes                      Yes   \n",
       "MultipleLines                          No                       No   \n",
       "InternetService                       DSL                      DSL   \n",
       "OnlineSecurity                         No                       No   \n",
       "OnlineBackup                           No                       No   \n",
       "DeviceProtection                       No                      Yes   \n",
       "TechSupport                           Yes                      Yes   \n",
       "StreamingTV                            No                       No   \n",
       "StreamingMovies                        No                       No   \n",
       "Contract                   Month-to-month           Month-to-month   \n",
       "PaperlessBilling                      Yes                      Yes   \n",
       "PaymentMethod     Credit card (automatic)  Credit card (automatic)   \n",
       "MonthlyCharges                       49.5                     55.0   \n",
       "TotalCharges                        312.7                   1046.5   \n",
       "Churn                                  No                      Yes   \n",
       "\n",
       "                                        2                 3                 4  \n",
       "customerID                     0567-XRHCU        1867-BDVFH        2067-QYTCF  \n",
       "gender                             Female              Male            Female  \n",
       "SeniorCitizen                           0                 0                 0  \n",
       "Partner                               Yes               Yes               Yes  \n",
       "Dependents                            Yes               Yes                No  \n",
       "tenure                                 69                11                64  \n",
       "PhoneService                           No               Yes               Yes  \n",
       "MultipleLines            No phone service               Yes               Yes  \n",
       "InternetService                       DSL       Fiber optic       Fiber optic  \n",
       "OnlineSecurity                        Yes                No                No  \n",
       "OnlineBackup                           No                No               Yes  \n",
       "DeviceProtection                      Yes                No               Yes  \n",
       "TechSupport                            No                No               Yes  \n",
       "StreamingTV                            No                No               Yes  \n",
       "StreamingMovies                       Yes                No               Yes  \n",
       "Contract                         Two year    Month-to-month    Month-to-month  \n",
       "PaperlessBilling                      Yes               Yes               Yes  \n",
       "PaymentMethod     Credit card (automatic)  Electronic check  Electronic check  \n",
       "MonthlyCharges                      43.95             74.35            111.15  \n",
       "TotalCharges                       2960.1             834.2            6953.4  \n",
       "Churn                                  No               Yes                No  "
      ]
     },
     "execution_count": 11,
     "metadata": {},
     "output_type": "execute_result"
    }
   ],
   "source": [
    "data2 = pd.read_csv('LP2_Telco-churn-last-2000.csv')\n",
    "data2.head().T"
   ]
  },
  {
   "cell_type": "code",
   "execution_count": 12,
   "metadata": {},
   "outputs": [],
   "source": [
    "# You can concatenate this with other DataFrames to get one data set for your work\n",
    "df = pd.concat([data, data2])\n",
    "df.to_csv('aba.csv')"
   ]
  },
  {
   "cell_type": "code",
   "execution_count": 13,
   "metadata": {},
   "outputs": [
    {
     "data": {
      "text/plain": [
       "(3000, 21)"
      ]
     },
     "execution_count": 13,
     "metadata": {},
     "output_type": "execute_result"
    }
   ],
   "source": [
    "data.shape"
   ]
  },
  {
   "cell_type": "code",
   "execution_count": 14,
   "metadata": {},
   "outputs": [
    {
     "data": {
      "text/plain": [
       "(2043, 21)"
      ]
     },
     "execution_count": 14,
     "metadata": {},
     "output_type": "execute_result"
    }
   ],
   "source": [
    "data2.shape"
   ]
  },
  {
   "cell_type": "code",
   "execution_count": 15,
   "metadata": {},
   "outputs": [
    {
     "data": {
      "text/plain": [
       "customerID            0\n",
       "gender                0\n",
       "SeniorCitizen         0\n",
       "Partner               0\n",
       "Dependents            0\n",
       "tenure                0\n",
       "PhoneService          0\n",
       "MultipleLines       269\n",
       "InternetService       0\n",
       "OnlineSecurity      651\n",
       "OnlineBackup        651\n",
       "DeviceProtection    651\n",
       "TechSupport         651\n",
       "StreamingTV         651\n",
       "StreamingMovies     651\n",
       "Contract              0\n",
       "PaperlessBilling      0\n",
       "PaymentMethod         0\n",
       "MonthlyCharges        0\n",
       "TotalCharges          5\n",
       "Churn                 1\n",
       "dtype: int64"
      ]
     },
     "execution_count": 15,
     "metadata": {},
     "output_type": "execute_result"
    }
   ],
   "source": [
    "data.isna().sum()"
   ]
  },
  {
   "attachments": {},
   "cell_type": "markdown",
   "metadata": {},
   "source": [
    "# Some EDA"
   ]
  },
  {
   "cell_type": "code",
   "execution_count": 16,
   "metadata": {},
   "outputs": [],
   "source": [
    "corr = data.corr()\n"
   ]
  },
  {
   "cell_type": "code",
   "execution_count": 17,
   "metadata": {},
   "outputs": [],
   "source": [
    "# Generate a mask for the upper triangle\n",
    "mask = np.triu(np.ones_like(corr, dtype=bool))"
   ]
  },
  {
   "cell_type": "code",
   "execution_count": 18,
   "metadata": {},
   "outputs": [
    {
     "data": {
      "text/plain": [
       "<Axes: >"
      ]
     },
     "execution_count": 18,
     "metadata": {},
     "output_type": "execute_result"
    },
    {
     "data": {
      "image/png": "[encoded data removed]",
      "text/plain": [
       "<Figure size 1100x900 with 2 Axes>"
      ]
     },
     "metadata": {},
     "output_type": "display_data"
    }
   ],
   "source": [
    "# Set up the matplotlib figure\n",
    "f, ax = plt.subplots(figsize=(11, 9))\n",
    "# Generate a custom diverging colormap\n",
    "cmap = sns.diverging_palette(230, 20, as_cmap=True)\n",
    "\n",
    "# Draw the heatmap with the mask and correct aspect ratio\n",
    "sns.heatmap(corr, mask=mask, cmap=cmap, vmax=.3, center=0,\n",
    "            square=True, linewidths=.5, cbar_kws={\"shrink\": .5})"
   ]
  },
  {
   "cell_type": "code",
   "execution_count": 19,
   "metadata": {},
   "outputs": [
    {
     "data": {
      "text/plain": [
       "<seaborn.axisgrid.FacetGrid at 0x2d3e0f13850>"
      ]
     },
     "execution_count": 19,
     "metadata": {},
     "output_type": "execute_result"
    },
    {
     "data": {
      "image/png": "[encoded data removed]",
      "text/plain": [
       "<Figure size 500x500 with 1 Axes>"
      ]
     },
     "metadata": {},
     "output_type": "display_data"
    }
   ],
   "source": [
    "# distribution of monthly charges\n",
    "sns.displot(data, x=data.MonthlyCharges)"
   ]
  },
  {
   "attachments": {},
   "cell_type": "markdown",
   "metadata": {},
   "source": []
  },
  {
   "cell_type": "code",
   "execution_count": 20,
   "metadata": {},
   "outputs": [
    {
     "data": {
      "image/png": "[encoded data removed]",
      "text/plain": [
       "<Figure size 1000x500 with 1 Axes>"
      ]
     },
     "metadata": {},
     "output_type": "display_data"
    }
   ],
   "source": [
    "plt.figure(figsize=(10,5))\n",
    "n, bins, patches = plt.hist(data.tenure, 30, facecolor='g', align='mid')\n",
    "\n",
    "\n",
    "plt.xlabel('Tenure in Months')\n",
    "plt.ylabel('Count of Customers')\n",
    "plt.title('Histogram of Tenure')\n",
    "plt.xlim(-3, 75)\n",
    "plt.ylim(0, 1000)\n",
    "plt.grid(True)\n",
    "plt.show()"
   ]
  },
  {
   "attachments": {},
   "cell_type": "markdown",
   "metadata": {},
   "source": [
    "# Tenure by Months\n",
    "* Customers at the beginning are most likely to churn \n",
    "* Customers also leave once they reach 70 months with the company"
   ]
  },
  {
   "attachments": {},
   "cell_type": "markdown",
   "metadata": {},
   "source": [
    "# How features affect churn?"
   ]
  },
  {
   "attachments": {},
   "cell_type": "markdown",
   "metadata": {},
   "source": [
    "### 1. First let us check Online security\n",
    "* Null hypothesis = Online security feature doesn't affect churn\n",
    "* Alternative hypothesis = Online security feature affect churn"
   ]
  },
  {
   "attachments": {},
   "cell_type": "markdown",
   "metadata": {},
   "source": [
    "#### A chi-square test is used to help determine if observed results are in line with expected results and to rule out that observations are due to chance."
   ]
  },
  {
   "cell_type": "code",
   "execution_count": 21,
   "metadata": {},
   "outputs": [
    {
     "name": "stdout",
     "output_type": "stream",
     "text": [
      "Crosstab of churn and security:\n",
      "\n",
      " OnlineSecurity  False  True \n",
      "Churn                       \n",
      "False             861    746\n",
      "True              617    124\n",
      "\n",
      "\n",
      "p =  2.6365457216168814e-43\n",
      "\n",
      "Rounded p value: 0.0\n"
     ]
    }
   ],
   "source": [
    "# support and churn are two categorical features\n",
    "# we can use the chi-square test for this\n",
    "# import hypothesis testing\n",
    "from scipy.stats import chi2_contingency\n",
    "from scipy.stats import ttest_1samp\n",
    "# set alpha first\n",
    "alpha = .05\n",
    "\n",
    "# create a cross table\n",
    "table = pd.crosstab(data.Churn, data.OnlineSecurity)\n",
    "print('Crosstab of churn and security:\\n\\n',table)\n",
    "\n",
    "chi2, p, degf, expected = chi2_contingency(table)\n",
    "\n",
    "print('\\n\\np = ',p)\n",
    "print('\\nRounded p value:',round(p,2))\n"
   ]
  },
  {
   "attachments": {},
   "cell_type": "markdown",
   "metadata": {},
   "source": [
    "#### Since p value is less than alpha value having online security affects a customer churning.\n",
    "##### So we are reject Null hypothesis "
   ]
  },
  {
   "attachments": {},
   "cell_type": "markdown",
   "metadata": {},
   "source": [
    "#### 2. Second let us check Tech support has impact on churn or not"
   ]
  },
  {
   "attachments": {},
   "cell_type": "markdown",
   "metadata": {},
   "source": [
    "* null hypothesis: having tech support does not affect churn\n",
    "* alternative hypothesis: having tech support affects a customer churning"
   ]
  },
  {
   "attachments": {},
   "cell_type": "markdown",
   "metadata": {},
   "source": [
    "similarly we are going to use chi square test "
   ]
  },
  {
   "cell_type": "code",
   "execution_count": 25,
   "metadata": {},
   "outputs": [
    {
     "name": "stdout",
     "output_type": "stream",
     "text": [
      "Crosstab of churn and security:\n",
      "\n",
      " TechSupport  False  True \n",
      "Churn                    \n",
      "False          845    762\n",
      "True           630    111\n",
      "\n",
      "\n",
      "p =  2.579438071668035e-51\n",
      "\n",
      "Rounded p value: 0.0\n"
     ]
    }
   ],
   "source": [
    "# support and churn are two categorical features\n",
    "# we can use the chi-square test for this\n",
    "\n",
    "# set alpha first\n",
    "alpha = .05\n",
    "\n",
    "# create a cross table\n",
    "table = pd.crosstab(data.Churn, data.TechSupport)\n",
    "print('Crosstab of churn and security:\\n\\n',table)\n",
    "\n",
    "chi2, p, degf, expected = chi2_contingency(table)\n",
    "\n",
    "print('\\n\\np = ',p)\n",
    "print('\\nRounded p value:',round(p,2))"
   ]
  },
  {
   "attachments": {},
   "cell_type": "markdown",
   "metadata": {},
   "source": [
    "#### since p value is less than alpha value we are going to reject our Null hypothesis"
   ]
  },
  {
   "attachments": {},
   "cell_type": "markdown",
   "metadata": {},
   "source": []
  }
 ],
 "metadata": {
  "kernelspec": {
   "display_name": "Python 3",
   "language": "python",
   "name": "python3"
  },
  "language_info": {
   "codemirror_mode": {
    "name": "ipython",
    "version": 3
   },
   "file_extension": ".py",
   "mimetype": "text/x-python",
   "name": "python",
   "nbconvert_exporter": "python",
   "pygments_lexer": "ipython3",
   "version": "3.11.0"
  },
  "orig_nbformat": 4
 },
 "nbformat": 4,
 "nbformat_minor": 2
}
